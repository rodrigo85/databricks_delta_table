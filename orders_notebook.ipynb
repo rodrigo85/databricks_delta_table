{
 "cells": [
  {
   "cell_type": "markdown",
   "metadata": {
    "application/vnd.databricks.v1+cell": {
     "cellMetadata": {
      "byteLimit": 2048000,
      "rowLimit": 10000
     },
     "inputWidgets": {},
     "nuid": "a64eb414-976c-43f8-ab9d-b8b660c6f2cc",
     "showTitle": false,
     "title": ""
    }
   },
   "source": [
    "### Resetting Delta Tables\n",
    "\n",
    "I use this block of code to reset my scenario when I want to start the test again from scratch. This is necessary only when I need to clear out existing data and begin with a fresh state for all my Delta tables.\n",
    "\n",
    "The code loops through a list of Delta table paths and removes each one recursively, effectively dropping all data stored in these tables. By doing this, I ensure that any previously persisted data is wiped out, and I can proceed with a clean setup for testing.\n"
   ]
  },
  {
   "cell_type": "code",
   "execution_count": 0,
   "metadata": {
    "application/vnd.databricks.v1+cell": {
     "cellMetadata": {
      "byteLimit": 2048000,
      "rowLimit": 10000
     },
     "inputWidgets": {},
     "nuid": "07da9412-43d6-43a4-9624-b86db4b2c71e",
     "showTitle": false,
     "title": ""
    }
   },
   "outputs": [
    {
     "output_type": "stream",
     "name": "stderr",
     "output_type": "stream",
     "text": [
      "INFO:py4j.clientserver:Received command c on object id p0\n"
     ]
    },
    {
     "output_type": "stream",
     "name": "stdout",
     "output_type": "stream",
     "text": [
      "All Delta tables have been dropped.\n"
     ]
    }
   ],
   "source": [
    "from pyspark.sql import SparkSession\n",
    "\n",
    "# Initialize SparkSession if not already initialized\n",
    "spark = SparkSession.builder.getOrCreate()\n",
    "\n",
    "# List of delta table paths\n",
    "delta_table_paths = [\n",
    "    \"/FileStore/tables/delta/orders_delta\",\n",
    "    \"/FileStore/tables/delta/order_lines_delta\",\n",
    "    \"/FileStore/tables/delta/charges_delta\",\n",
    "    \"/FileStore/tables/delta/inventory_delta\",\n",
    "    \"/FileStore/tables/delta/processed_orders_delta\"\n",
    "]\n",
    "\n",
    "# Loop through each delta table path and delete the directories\n",
    "for table_path in delta_table_paths:\n",
    "    dbutils.fs.rm(table_path, True)  # True to remove recursively\n",
    "\n",
    "print(\"All Delta tables have been dropped.\")\n"
   ]
  },
  {
   "cell_type": "markdown",
   "metadata": {
    "application/vnd.databricks.v1+cell": {
     "cellMetadata": {
      "byteLimit": 2048000,
      "rowLimit": 10000
     },
     "inputWidgets": {},
     "nuid": "18e33581-b617-4ccc-a8e3-b9cae5073022",
     "showTitle": false,
     "title": ""
    }
   },
   "source": [
    "### Resetting Inventory for Testing\n",
    "\n",
    "I use this code block when I want to reset the inventory amounts and start the test again from a clean state. This is only necessary when I need to ensure that the inventory values are restored to their original starting point before running new tests.\n",
    "\n",
    "The process involves reloading the initial inventory data from a JSON file and overwriting the current Delta table to reset all inventory amounts. By doing this, I make sure that my tests operate with the correct baseline inventory values, avoiding any impact from previous test runs.\n"
   ]
  },
  {
   "cell_type": "code",
   "execution_count": 0,
   "metadata": {
    "application/vnd.databricks.v1+cell": {
     "cellMetadata": {
      "byteLimit": 2048000,
      "rowLimit": 10000
     },
     "inputWidgets": {},
     "nuid": "faa289ec-c2d4-42f4-aa26-d943ecf50ac0",
     "showTitle": false,
     "title": ""
    }
   },
   "outputs": [
    {
     "output_type": "stream",
     "name": "stderr",
     "output_type": "stream",
     "text": [
      "INFO:py4j.clientserver:Received command c on object id p0\n"
     ]
    },
    {
     "output_type": "stream",
     "name": "stdout",
     "output_type": "stream",
     "text": [
      "Initial inventory has been successfully written to the Delta table.\n"
     ]
    }
   ],
   "source": [
    "from pyspark.sql import functions as F\n",
    "from delta.tables import DeltaTable\n",
    "\n",
    "# Step 1: Load the initial inventory from JSON file\n",
    "inventory_json_path = \"/FileStore/tables/initial_inventory.json\"\n",
    "\n",
    "# Load the JSON file\n",
    "initial_inventory_df = spark.read.option(\"multiline\", \"true\").json(inventory_json_path)\n",
    "\n",
    "# Step 2: Define the inventory Delta table path\n",
    "inventory_delta_path = \"/FileStore/tables/delta/inventory_delta\"\n",
    "\n",
    "# Step 3: Reset and overwrite the inventory table (start from zero)\n",
    "initial_inventory_df.select(\"productName\", \"sku\", \"initialInventory\").write \\\n",
    "    .format(\"delta\").mode(\"overwrite\").save(inventory_delta_path)\n",
    "\n",
    "print(\"Initial inventory has been successfully written to the Delta table.\")\n"
   ]
  },
  {
   "cell_type": "markdown",
   "metadata": {
    "application/vnd.databricks.v1+cell": {
     "cellMetadata": {
      "byteLimit": 2048000,
      "rowLimit": 10000
     },
     "inputWidgets": {},
     "nuid": "c74c00b3-c080-482e-849a-421cad67060d",
     "showTitle": false,
     "title": ""
    }
   },
   "source": [
    "### Importing Orders and Updating Inventory\n",
    "\n",
    "I use this code to import orders into Delta tables and adjust the inventory based on the quantity sold in each order. This process ensures that all order data is up-to-date and that the inventory reflects the correct amounts after each transaction.\n",
    "\n",
    "The key steps include:\n",
    "1. Loading the raw order data from JSON files.\n",
    "2. Processing the order details, order lines, and associated charges.\n",
    "3. Updating the inventory by decreasing the stock levels based on the quantities sold.\n",
    "\n",
    "The process involves:\n",
    "- **Upserting** (merge operation) the order data into the Delta tables for orders, order lines, and charges.\n",
    "- **Updating the inventory**: After processing the order lines, I aggregate the quantities sold for each product and decrease the corresponding amounts in the inventory Delta table.\n",
    "\n",
    "This workflow ensures that my system remains synchronized, with accurate information on both orders and available inventory.\n"
   ]
  },
  {
   "cell_type": "code",
   "execution_count": 0,
   "metadata": {
    "application/vnd.databricks.v1+cell": {
     "cellMetadata": {
      "byteLimit": 2048000,
      "rowLimit": 10000
     },
     "inputWidgets": {},
     "nuid": "e9c8106c-7068-461f-a273-6a3dd51b95a6",
     "showTitle": false,
     "title": ""
    }
   },
   "outputs": [],
   "source": [
    "import logging\n",
    "import shutil  # Import for file movement\n",
    "import os\n",
    "from pyspark.sql import functions as F\n",
    "from delta.tables import DeltaTable\n",
    "from pyspark.sql.utils import AnalysisException\n",
    "\n",
    "# Setup logging\n",
    "logging.basicConfig(level=logging.INFO)\n",
    "logger = logging.getLogger(__name__)\n",
    "\n",
    "# Function to perform Delta upsert (merge) with error handling\n",
    "def upsert_to_delta(source_df, delta_table_path, merge_condition):\n",
    "    \"\"\"\n",
    "    Upserts (merges) data from source DataFrame into a Delta table.\n",
    "    \n",
    "    Args:\n",
    "        source_df (DataFrame): DataFrame with source data.\n",
    "        delta_table_path (str): Path to the Delta table.\n",
    "        merge_condition (str): Condition for merging data.\n",
    "    \"\"\"\n",
    "    try:\n",
    "        if DeltaTable.isDeltaTable(spark, delta_table_path):\n",
    "            delta_table = DeltaTable.forPath(spark, delta_table_path)\n",
    "            # Perform the merge operation\n",
    "            delta_table.alias(\"target\").merge(\n",
    "                source_df.alias(\"source\"),\n",
    "                merge_condition\n",
    "            ).whenMatchedUpdateAll() \\\n",
    "             .whenNotMatchedInsertAll() \\\n",
    "             .execute()\n",
    "            logger.info(f\"Upsert successful for {delta_table_path}\")\n",
    "        else:\n",
    "            # First time save (initial load)\n",
    "            source_df.write.format(\"delta\").mode(\"overwrite\").save(delta_table_path)\n",
    "            logger.info(f\"Table {delta_table_path} created and data saved\")\n",
    "    except AnalysisException as e:\n",
    "        logger.error(f\"AnalysisException encountered: {e}\")\n",
    "    except Exception as e:\n",
    "        logger.error(f\"Failed to upsert data to {delta_table_path}: {e}\")\n",
    "        raise\n",
    "    finally:\n",
    "        logger.info(f\"Upsert process completed for {delta_table_path}\")\n",
    "\n",
    "# Load JSON data with validation and error handling, checks if there are files to process\n",
    "def load_json_data(json_directory_path):\n",
    "    \"\"\"\n",
    "    Loads JSON data from the specified directory, returns empty DataFrame if no files.\n",
    "    \n",
    "    Args:\n",
    "        json_directory_path (str): Path to the JSON files directory.\n",
    "    \n",
    "    Returns:\n",
    "        DataFrame: Loaded JSON data or an empty DataFrame if no files are found.\n",
    "    \"\"\"\n",
    "    try:\n",
    "        # List files using dbutils.fs.ls\n",
    "        files = dbutils.fs.ls(json_directory_path)\n",
    "        if not files:\n",
    "            logger.info(f\"No files to process in {json_directory_path}\")\n",
    "            return spark.createDataFrame([], schema=None)  # Return an empty DataFrame if no files\n",
    "\n",
    "        df = spark.read.option(\"multiLine\", \"true\").json(json_directory_path)\n",
    "        logger.info(f\"Loaded JSON data from {json_directory_path}\")\n",
    "        return df\n",
    "    except Exception as e:\n",
    "        logger.error(f\"Failed to load JSON data from {json_directory_path}: {e}\")\n",
    "        raise\n",
    "\n",
    "# Function to move processed files\n",
    "def move_processed_files(source_directory, target_directory):\n",
    "    \"\"\"\n",
    "    Moves files from source directory to target directory.\n",
    "    \n",
    "    Args:\n",
    "        source_directory (str): Source directory path.\n",
    "        target_directory (str): Target directory path.\n",
    "    \"\"\"\n",
    "    try:\n",
    "        # Check if the target directory exists, if not create it\n",
    "        try:\n",
    "            dbutils.fs.ls(target_directory)  # Check if directory exists\n",
    "        except:\n",
    "            logger.info(f\"Directory {target_directory} does not exist, creating it.\")\n",
    "            dbutils.fs.mkdirs(target_directory)\n",
    "        \n",
    "        # Move files from source to target\n",
    "        files = dbutils.fs.ls(source_directory)\n",
    "        for file_info in files:\n",
    "            source_file = file_info.path\n",
    "            target_file = target_directory + file_info.name\n",
    "            dbutils.fs.mv(source_file, target_file)\n",
    "            logger.info(f\"Moved {file_info.name} to {target_directory}\")\n",
    "    except Exception as e:\n",
    "        logger.error(f\"Error moving files from {source_directory} to {target_directory}: {e}\")\n",
    "        raise\n",
    "\n",
    "\n",
    "\n",
    "# Flatten and extract order-related data with schema validation\n",
    "def extract_order_data(orders_df):\n",
    "    \"\"\"\n",
    "    Extracts and flattens order-related data from the orders DataFrame.\n",
    "    \n",
    "    Args:\n",
    "        orders_df (DataFrame): DataFrame containing raw order data.\n",
    "    \n",
    "    Returns:\n",
    "        DataFrame: Flattened order data.\n",
    "    \"\"\"\n",
    "    try:\n",
    "        orders_df = orders_df.select(F.explode(\"list.elements.order\").alias(\"order\"))\n",
    "        logger.info(\"Orders data successfully extracted and flattened\")\n",
    "        return orders_df\n",
    "    except Exception as e:\n",
    "        logger.error(f\"Failed to extract order data: {e}\")\n",
    "        raise\n",
    "\n",
    "# Process orders data with error handling\n",
    "def process_order_data(orders_df):\n",
    "    \"\"\"\n",
    "    Processes and upserts order data into the Delta table.\n",
    "    \n",
    "    Args:\n",
    "        orders_df (DataFrame): DataFrame containing order data.\n",
    "    \"\"\"\n",
    "    order_delta_path = \"/FileStore/tables/delta/orders_delta\"\n",
    "    try:\n",
    "        data = orders_df.select(\n",
    "            F.col(\"order.purchaseOrderId\").alias(\"purchaseOrderId\"),\n",
    "            F.col(\"order.customerOrderId\").alias(\"customerOrderId\"),\n",
    "            F.col(\"order.customerEmailId\").alias(\"customerEmailId\"),\n",
    "            F.col(\"order.orderType\").alias(\"orderType\"),\n",
    "            F.col(\"order.orderDate\").alias(\"orderDate\")\n",
    "        )\n",
    "        logger.info(\"Processing orders data\")\n",
    "        upsert_to_delta(data, order_delta_path, \"target.purchaseOrderId = source.purchaseOrderId\")\n",
    "    except Exception as e:\n",
    "        logger.error(f\"Error processing order data: {e}\")\n",
    "        raise\n",
    "\n",
    "# Process order lines with error handling\n",
    "def process_order_lines(orders_df):\n",
    "    \"\"\"\n",
    "    Processes and upserts order line data into the Delta table and updates inventory.\n",
    "    \n",
    "    Args:\n",
    "        orders_df (DataFrame): DataFrame containing order line data.\n",
    "    \"\"\"\n",
    "    order_lines_delta_path = \"/FileStore/tables/delta/order_lines_delta\"\n",
    "    try:\n",
    "        order_lines_data = orders_df.select(\n",
    "            \"order.purchaseOrderId\",\n",
    "            F.explode(\"order.orderLines.orderLine\").alias(\"orderLine\")\n",
    "        ).select(\n",
    "            \"purchaseOrderId\",\n",
    "            \"orderLine.lineNumber\",\n",
    "            \"orderLine.item.productName\",\n",
    "            \"orderLine.item.sku\",\n",
    "            F.col(\"orderLine.orderLineQuantity.amount\").cast(\"int\").alias(\"amount\"),\n",
    "            \"orderLine.fulfillment.shipMethod\"\n",
    "        )\n",
    "        logger.info(\"Processing order lines data\")\n",
    "        upsert_to_delta(order_lines_data, order_lines_delta_path,\n",
    "                        \"target.purchaseOrderId = source.purchaseOrderId AND target.lineNumber = source.lineNumber\")\n",
    "        update_inventory(order_lines_data)\n",
    "    except Exception as e:\n",
    "        logger.error(f\"Error processing order lines: {e}\")\n",
    "        raise\n",
    "\n",
    "# Update inventory with error handling\n",
    "def update_inventory(order_lines_data):\n",
    "    \"\"\"\n",
    "    Updates the inventory Delta table based on quantities sold.\n",
    "    \n",
    "    Args:\n",
    "        order_lines_data (DataFrame): DataFrame containing order line quantities sold.\n",
    "    \"\"\"\n",
    "    inventory_delta_path = \"/FileStore/tables/delta/inventory_delta\"\n",
    "    try:\n",
    "        if DeltaTable.isDeltaTable(spark, inventory_delta_path):\n",
    "            inventory_delta = DeltaTable.forPath(spark, inventory_delta_path)\n",
    "\n",
    "            sold_products_df = order_lines_data.groupBy(\"productName\", \"sku\").agg(F.sum(\"amount\").alias(\"quantitySold\"))\n",
    "            sold_products_df.show(truncate=False)\n",
    "\n",
    "            inventory_delta.alias(\"inventory\").merge(\n",
    "                sold_products_df.alias(\"sales\"),\n",
    "                \"inventory.productName = sales.productName AND inventory.sku = sales.sku\"\n",
    "            ).whenMatchedUpdate(\n",
    "                set={\n",
    "                    \"inventory.initialInventory\": F.col(\"inventory.initialInventory\") - F.col(\"sales.quantitySold\")\n",
    "                }\n",
    "            ).execute()\n",
    "            logger.info(\"Inventory updated successfully\")\n",
    "        else:\n",
    "            logger.warning(f\"Inventory Delta Table does not exist at {inventory_delta_path}\")\n",
    "    except Exception as e:\n",
    "        logger.error(f\"Error updating inventory: {e}\")\n",
    "        raise\n",
    "\n",
    "# Process charges data with error handling\n",
    "def process_charges_data(orders_df):\n",
    "    \"\"\"\n",
    "    Processes and upserts charges data into the Delta table.\n",
    "    \n",
    "    Args:\n",
    "        orders_df (DataFrame): DataFrame containing order charge data.\n",
    "    \"\"\"\n",
    "    charges_delta_path = \"/FileStore/tables/delta/charges_delta\"\n",
    "    try:\n",
    "        charges_df = orders_df.select(\n",
    "            \"order.purchaseOrderId\",\n",
    "            F.explode(\"order.orderLines.orderLine\").alias(\"orderLine\")\n",
    "        ).select(\n",
    "            \"purchaseOrderId\",\n",
    "            \"orderLine.lineNumber\",\n",
    "            F.explode(\"orderLine.charges.charge\").alias(\"charge\")\n",
    "        ).select(\n",
    "            \"purchaseOrderId\",\n",
    "            \"lineNumber\",\n",
    "            \"charge.chargeType\",\n",
    "            \"charge.chargeName\",\n",
    "            F.when(F.col(\"charge.chargeAmount.amount\").isNotNull(), F.col(\"charge.chargeAmount.amount\")).alias(\"amount\"),\n",
    "            F.when(F.col(\"charge.chargeAmount.currency\").isNotNull(), F.col(\"charge.chargeAmount.currency\")).alias(\"currency\"),\n",
    "            F.when(F.col(\"charge.tax\").isNotNull(), F.col(\"charge.tax.taxAmount.amount\")).alias(\"taxAmount\"),\n",
    "            F.when(F.col(\"charge.tax\").isNotNull(), F.col(\"charge.tax.taxAmount.currency\")).alias(\"taxCurrency\"),\n",
    "            F.when(F.col(\"charge.tax\").isNotNull(), F.col(\"charge.tax.taxName\")).alias(\"taxName\")\n",
    "        )\n",
    "        logger.info(\"Processing charges data\")\n",
    "        upsert_to_delta(charges_df, charges_delta_path,\n",
    "                        \"target.purchaseOrderId = source.purchaseOrderId AND target.lineNumber = source.lineNumber AND target.chargeType = source.chargeType\")\n",
    "    except Exception as e:\n",
    "        logger.error(f\"Error processing charges data: {e}\")\n",
    "        raise\n",
    "\n",
    "# Main process that combines all steps with error handling\n",
    "def main():\n",
    "    \"\"\"\n",
    "    Main process to load, process, and upsert orders, order lines, and charges.\n",
    "    \"\"\"\n",
    "    try:\n",
    "        json_directory_path = \"/FileStore/tables/orders/\"\n",
    "        processed_directory_path = \"/FileStore/tables/processed/\"\n",
    "\n",
    "        files = dbutils.fs.ls(json_directory_path)\n",
    "        if not files:\n",
    "            logger.warning(f\"No files to process in {json_directory_path}\")\n",
    "        else:\n",
    "            orders_raw_df = load_json_data(json_directory_path)\n",
    "            if orders_raw_df.rdd.isEmpty():\n",
    "                return  # Exit early if no data to process\n",
    "            orders_df = extract_order_data(orders_raw_df)\n",
    "            \n",
    "            process_order_data(orders_df)\n",
    "            process_order_lines(orders_df)\n",
    "            process_charges_data(orders_df)\n",
    "\n",
    "            move_processed_files(json_directory_path, processed_directory_path)    \n",
    "    except Exception as e:\n",
    "        logger.error(f\"Error in main process: {e}\")\n",
    "        raise"
   ]
  },
  {
   "cell_type": "markdown",
   "metadata": {
    "application/vnd.databricks.v1+cell": {
     "cellMetadata": {
      "byteLimit": 2048000,
      "rowLimit": 10000
     },
     "inputWidgets": {},
     "nuid": "500d5a83-eb82-44cc-bf6b-ecfb6bb77fda",
     "showTitle": false,
     "title": ""
    }
   },
   "source": [
    "### Creating Delta Tables for Orders, Order Lines, Charges, and Inventory\n",
    "\n",
    "I use this SQL code to create Delta tables for storing and managing orders, order lines, charges, and inventory data. These tables are essential for organizing my data in a structured and efficient way. By defining these Delta tables, I ensure that all the necessary data is persisted and easily accessible for queries and further processing.\n",
    "\n",
    "#### Why?\n",
    "Creating these Delta tables allows me to:\n",
    "- **Persist data** in a reliable format (Delta Lake), which supports ACID transactions.\n",
    "- **Access and query** data efficiently using SQL or PySpark.\n",
    "- **Enable updates** and merges (upserts) to keep the data up-to-date as new transactions occur (e.g., new orders, inventory updates).\n",
    "- **Maintain consistency** of the data, especially when working with large datasets across multiple stages like orders, order lines, and inventory management.\n",
    "\n",
    "Each table corresponds to a specific aspect of the order management workflow:\n",
    "- **orders_delta**: Stores order details.\n",
    "- **order_lines_delta**: Contains details about the items in each order.\n",
    "- **charges_delta**: Manages the charges and fees associated with each order.\n",
    "- **inventory_delta**: Tracks inventory levels and updates when sales are processed.\n"
   ]
  },
  {
   "cell_type": "code",
   "execution_count": 0,
   "metadata": {
    "application/vnd.databricks.v1+cell": {
     "cellMetadata": {
      "byteLimit": 2048000,
      "implicitDf": true,
      "rowLimit": 10000
     },
     "inputWidgets": {},
     "nuid": "d068108d-1ffa-42ae-91f0-0307223ebeb4",
     "showTitle": false,
     "title": ""
    }
   },
   "outputs": [
    {
     "output_type": "display_data",
     "data": {
      "text/html": [
       "<style scoped>\n",
       "  .table-result-container {\n",
       "    max-height: 300px;\n",
       "    overflow: auto;\n",
       "  }\n",
       "  table, th, td {\n",
       "    border: 1px solid black;\n",
       "    border-collapse: collapse;\n",
       "  }\n",
       "  th, td {\n",
       "    padding: 5px;\n",
       "  }\n",
       "  th {\n",
       "    text-align: left;\n",
       "  }\n",
       "</style><div class='table-result-container'><table class='table-result'><thead style='background-color: white'><tr></tr></thead><tbody></tbody></table></div>"
      ]
     },
     "metadata": {
      "application/vnd.databricks.v1+output": {
       "addedWidgets": {},
       "aggData": [],
       "aggError": "",
       "aggOverflow": false,
       "aggSchema": [],
       "aggSeriesLimitReached": false,
       "aggType": "",
       "arguments": {},
       "columnCustomDisplayInfos": {},
       "data": [],
       "datasetInfos": [],
       "dbfsResultPath": null,
       "isJsonSchema": true,
       "metadata": {},
       "overflow": false,
       "plotOptions": {
        "customPlotOptions": {},
        "displayType": "table",
        "pivotAggregation": null,
        "pivotColumns": null,
        "xColumns": null,
        "yColumns": null
       },
       "removedWidgets": [],
       "schema": [],
       "type": "table"
      }
     },
     "output_type": "display_data"
    }
   ],
   "source": [
    "%sql\n",
    "-- Create SQL table for orders data\n",
    "CREATE TABLE IF NOT EXISTS orders_delta\n",
    "USING delta\n",
    "LOCATION '/FileStore/tables/delta/orders_delta';\n",
    "\n",
    "-- Create SQL table for order lines data\n",
    "CREATE TABLE IF NOT EXISTS order_lines_delta\n",
    "USING delta\n",
    "LOCATION '/FileStore/tables/delta/order_lines_delta';\n",
    "\n",
    "-- Create SQL table for charges data\n",
    "CREATE TABLE IF NOT EXISTS charges_delta\n",
    "USING delta\n",
    "LOCATION '/FileStore/tables/delta/charges_delta';\n",
    "\n",
    "-- Create SQL table for inventory data\n",
    "CREATE TABLE IF NOT EXISTS inventory_delta\n",
    "USING delta\n",
    "LOCATION '/FileStore/tables/delta/inventory_delta';"
   ]
  },
  {
   "cell_type": "markdown",
   "metadata": {
    "application/vnd.databricks.v1+cell": {
     "cellMetadata": {
      "byteLimit": 2048000,
      "rowLimit": 10000
     },
     "inputWidgets": {},
     "nuid": "4361a811-b22f-4286-9bee-b6ae835652d6",
     "showTitle": false,
     "title": ""
    }
   },
   "source": [
    "Let's check the invetory before running my main code."
   ]
  },
  {
   "cell_type": "code",
   "execution_count": 0,
   "metadata": {
    "application/vnd.databricks.v1+cell": {
     "cellMetadata": {
      "byteLimit": 2048000,
      "implicitDf": true,
      "rowLimit": 10000
     },
     "inputWidgets": {},
     "nuid": "f91e233d-0712-4c30-8fe6-9ef4fc057d20",
     "showTitle": false,
     "title": ""
    }
   },
   "outputs": [
    {
     "output_type": "display_data",
     "data": {
      "text/html": [
       "<style scoped>\n",
       "  .table-result-container {\n",
       "    max-height: 300px;\n",
       "    overflow: auto;\n",
       "  }\n",
       "  table, th, td {\n",
       "    border: 1px solid black;\n",
       "    border-collapse: collapse;\n",
       "  }\n",
       "  th, td {\n",
       "    padding: 5px;\n",
       "  }\n",
       "  th {\n",
       "    text-align: left;\n",
       "  }\n",
       "</style><div class='table-result-container'><table class='table-result'><thead style='background-color: white'><tr><th>productName</th><th>sku</th><th>initialInventory</th></tr></thead><tbody><tr><td>Apple AirPods Pro (2nd Gen)</td><td>AirPodsPro_2ndGen</td><td>180</td></tr><tr><td>Apple iPad Pro 12.9-inch</td><td>iPadPro_12_9_128GB</td><td>75</td></tr><tr><td>Bose QuietComfort 45 Headphones</td><td>BoseQC45</td><td>120</td></tr><tr><td>Dyson V15 Detect Cordless Vacuum</td><td>DysonV15_Cordless</td><td>90</td></tr><tr><td>Google Pixel 6 Pro</td><td>Pixel6Pro_128GB</td><td>60</td></tr><tr><td>Nintendo Switch OLED</td><td>NintendoSwitch_OLED</td><td>80</td></tr><tr><td>Open Box Apple Watch Series 8 GPS 41mm Silver Aluminum Case with White Sport Band - S/M</td><td>skutotestsparkjobsmartwatch4</td><td>50</td></tr><tr><td>Samsung Galaxy S21 Ultra</td><td>SGS21U_128GB</td><td>100</td></tr><tr><td>Sony PlayStation 5 Console</td><td>PS5_CONSOLE</td><td>200</td></tr><tr><td>Sony WH-1000XM5 Wireless Headphones</td><td>SONY_WHR_1000XM5</td><td>150</td></tr></tbody></table></div>"
      ]
     },
     "metadata": {
      "application/vnd.databricks.v1+output": {
       "addedWidgets": {},
       "aggData": [],
       "aggError": "",
       "aggOverflow": false,
       "aggSchema": [],
       "aggSeriesLimitReached": false,
       "aggType": "",
       "arguments": {},
       "columnCustomDisplayInfos": {},
       "data": [
        [
         "Apple AirPods Pro (2nd Gen)",
         "AirPodsPro_2ndGen",
         180
        ],
        [
         "Apple iPad Pro 12.9-inch",
         "iPadPro_12_9_128GB",
         75
        ],
        [
         "Bose QuietComfort 45 Headphones",
         "BoseQC45",
         120
        ],
        [
         "Dyson V15 Detect Cordless Vacuum",
         "DysonV15_Cordless",
         90
        ],
        [
         "Google Pixel 6 Pro",
         "Pixel6Pro_128GB",
         60
        ],
        [
         "Nintendo Switch OLED",
         "NintendoSwitch_OLED",
         80
        ],
        [
         "Open Box Apple Watch Series 8 GPS 41mm Silver Aluminum Case with White Sport Band - S/M",
         "skutotestsparkjobsmartwatch4",
         50
        ],
        [
         "Samsung Galaxy S21 Ultra",
         "SGS21U_128GB",
         100
        ],
        [
         "Sony PlayStation 5 Console",
         "PS5_CONSOLE",
         200
        ],
        [
         "Sony WH-1000XM5 Wireless Headphones",
         "SONY_WHR_1000XM5",
         150
        ]
       ],
       "datasetInfos": [],
       "dbfsResultPath": null,
       "isJsonSchema": true,
       "metadata": {},
       "overflow": false,
       "plotOptions": {
        "customPlotOptions": {},
        "displayType": "table",
        "pivotAggregation": null,
        "pivotColumns": null,
        "xColumns": null,
        "yColumns": null
       },
       "removedWidgets": [],
       "schema": [
        {
         "metadata": "{}",
         "name": "productName",
         "type": "\"string\""
        },
        {
         "metadata": "{}",
         "name": "sku",
         "type": "\"string\""
        },
        {
         "metadata": "{}",
         "name": "initialInventory",
         "type": "\"long\""
        }
       ],
       "type": "table"
      }
     },
     "output_type": "display_data"
    }
   ],
   "source": [
    "%sql\n",
    "\n",
    "-- Query to see the inventory data\n",
    "SELECT * FROM inventory_delta order by 1;"
   ]
  },
  {
   "cell_type": "markdown",
   "metadata": {
    "application/vnd.databricks.v1+cell": {
     "cellMetadata": {
      "byteLimit": 2048000,
      "rowLimit": 10000
     },
     "inputWidgets": {},
     "nuid": "8550500f-9042-4fcd-a343-f6e9bdfe22a6",
     "showTitle": false,
     "title": ""
    }
   },
   "source": [
    "### First Execution"
   ]
  },
  {
   "cell_type": "code",
   "execution_count": 0,
   "metadata": {
    "application/vnd.databricks.v1+cell": {
     "cellMetadata": {
      "byteLimit": 2048000,
      "rowLimit": 10000
     },
     "inputWidgets": {},
     "nuid": "4e7e79f3-706a-4f68-a23a-92aca6850f33",
     "showTitle": false,
     "title": ""
    }
   },
   "outputs": [
    {
     "output_type": "stream",
     "name": "stderr",
     "output_type": "stream",
     "text": [
      "INFO:py4j.clientserver:Received command c on object id p0\nINFO:__main__:Loaded JSON data from /FileStore/tables/orders/\nINFO:__main__:Orders data successfully extracted and flattened\nINFO:__main__:Processing orders data\nINFO:__main__:Table /FileStore/tables/delta/orders_delta created and data saved\nINFO:__main__:Upsert process completed for /FileStore/tables/delta/orders_delta\nINFO:__main__:Processing order lines data\nINFO:__main__:Table /FileStore/tables/delta/order_lines_delta created and data saved\nINFO:__main__:Upsert process completed for /FileStore/tables/delta/order_lines_delta\n"
     ]
    },
    {
     "output_type": "stream",
     "name": "stdout",
     "output_type": "stream",
     "text": [
      "+---------------------------------------------------------------------------------------+----------------------------+------------+\n|productName                                                                            |sku                         |quantitySold|\n+---------------------------------------------------------------------------------------+----------------------------+------------+\n|Google Pixel 6 Pro                                                                     |Pixel6Pro_128GB             |1           |\n|Apple AirPods Pro (2nd Gen)                                                            |AirPodsPro_2ndGen           |1           |\n|Nintendo Switch OLED                                                                   |NintendoSwitch_OLED         |1           |\n|Apple iPad Pro 12.9-inch                                                               |iPadPro_12_9_128GB          |1           |\n|Sony PlayStation 5 Console                                                             |PS5_CONSOLE                 |1           |\n|Samsung Galaxy S21 Ultra                                                               |SGS21U_128GB                |1           |\n|Dyson V15 Detect Cordless Vacuum                                                       |DysonV15_Cordless           |1           |\n|Open Box Apple Watch Series 8 GPS 41mm Silver Aluminum Case with White Sport Band - S/M|skutotestsparkjobsmartwatch4|1           |\n|Sony WH-1000XM5 Wireless Headphones                                                    |SONY_WHR_1000XM5            |2           |\n|Bose QuietComfort 45 Headphones                                                        |BoseQC45                    |1           |\n+---------------------------------------------------------------------------------------+----------------------------+------------+\n\n"
     ]
    },
    {
     "output_type": "stream",
     "name": "stderr",
     "output_type": "stream",
     "text": [
      "INFO:__main__:Inventory updated successfully\nINFO:__main__:Processing charges data\nINFO:__main__:Table /FileStore/tables/delta/charges_delta created and data saved\nINFO:__main__:Upsert process completed for /FileStore/tables/delta/charges_delta\nINFO:__main__:Moved orders.json to /FileStore/tables/processed/\n"
     ]
    }
   ],
   "source": [
    "main()"
   ]
  },
  {
   "cell_type": "markdown",
   "metadata": {
    "application/vnd.databricks.v1+cell": {
     "cellMetadata": {
      "byteLimit": 2048000,
      "rowLimit": 10000
     },
     "inputWidgets": {},
     "nuid": "f154d7c4-801e-413b-9e64-2b62fa8edf36",
     "showTitle": false,
     "title": ""
    }
   },
   "source": [
    "Now let's check the remaining invetory."
   ]
  },
  {
   "cell_type": "code",
   "execution_count": 0,
   "metadata": {
    "application/vnd.databricks.v1+cell": {
     "cellMetadata": {
      "byteLimit": 2048000,
      "implicitDf": true,
      "rowLimit": 10000
     },
     "inputWidgets": {},
     "nuid": "ef7e14d3-70ac-41e0-85db-a6be5c32dd1a",
     "showTitle": false,
     "title": ""
    }
   },
   "outputs": [
    {
     "output_type": "display_data",
     "data": {
      "text/html": [
       "<style scoped>\n",
       "  .table-result-container {\n",
       "    max-height: 300px;\n",
       "    overflow: auto;\n",
       "  }\n",
       "  table, th, td {\n",
       "    border: 1px solid black;\n",
       "    border-collapse: collapse;\n",
       "  }\n",
       "  th, td {\n",
       "    padding: 5px;\n",
       "  }\n",
       "  th {\n",
       "    text-align: left;\n",
       "  }\n",
       "</style><div class='table-result-container'><table class='table-result'><thead style='background-color: white'><tr><th>productName</th><th>sku</th><th>initialInventory</th></tr></thead><tbody><tr><td>Apple AirPods Pro (2nd Gen)</td><td>AirPodsPro_2ndGen</td><td>179</td></tr><tr><td>Apple iPad Pro 12.9-inch</td><td>iPadPro_12_9_128GB</td><td>74</td></tr><tr><td>Bose QuietComfort 45 Headphones</td><td>BoseQC45</td><td>119</td></tr><tr><td>Dyson V15 Detect Cordless Vacuum</td><td>DysonV15_Cordless</td><td>89</td></tr><tr><td>Google Pixel 6 Pro</td><td>Pixel6Pro_128GB</td><td>59</td></tr><tr><td>Nintendo Switch OLED</td><td>NintendoSwitch_OLED</td><td>79</td></tr><tr><td>Open Box Apple Watch Series 8 GPS 41mm Silver Aluminum Case with White Sport Band - S/M</td><td>skutotestsparkjobsmartwatch4</td><td>49</td></tr><tr><td>Samsung Galaxy S21 Ultra</td><td>SGS21U_128GB</td><td>99</td></tr><tr><td>Sony PlayStation 5 Console</td><td>PS5_CONSOLE</td><td>199</td></tr><tr><td>Sony WH-1000XM5 Wireless Headphones</td><td>SONY_WHR_1000XM5</td><td>148</td></tr></tbody></table></div>"
      ]
     },
     "metadata": {
      "application/vnd.databricks.v1+output": {
       "addedWidgets": {},
       "aggData": [],
       "aggError": "",
       "aggOverflow": false,
       "aggSchema": [],
       "aggSeriesLimitReached": false,
       "aggType": "",
       "arguments": {},
       "columnCustomDisplayInfos": {},
       "data": [
        [
         "Apple AirPods Pro (2nd Gen)",
         "AirPodsPro_2ndGen",
         179
        ],
        [
         "Apple iPad Pro 12.9-inch",
         "iPadPro_12_9_128GB",
         74
        ],
        [
         "Bose QuietComfort 45 Headphones",
         "BoseQC45",
         119
        ],
        [
         "Dyson V15 Detect Cordless Vacuum",
         "DysonV15_Cordless",
         89
        ],
        [
         "Google Pixel 6 Pro",
         "Pixel6Pro_128GB",
         59
        ],
        [
         "Nintendo Switch OLED",
         "NintendoSwitch_OLED",
         79
        ],
        [
         "Open Box Apple Watch Series 8 GPS 41mm Silver Aluminum Case with White Sport Band - S/M",
         "skutotestsparkjobsmartwatch4",
         49
        ],
        [
         "Samsung Galaxy S21 Ultra",
         "SGS21U_128GB",
         99
        ],
        [
         "Sony PlayStation 5 Console",
         "PS5_CONSOLE",
         199
        ],
        [
         "Sony WH-1000XM5 Wireless Headphones",
         "SONY_WHR_1000XM5",
         148
        ]
       ],
       "datasetInfos": [],
       "dbfsResultPath": null,
       "isJsonSchema": true,
       "metadata": {},
       "overflow": false,
       "plotOptions": {
        "customPlotOptions": {},
        "displayType": "table",
        "pivotAggregation": null,
        "pivotColumns": null,
        "xColumns": null,
        "yColumns": null
       },
       "removedWidgets": [],
       "schema": [
        {
         "metadata": "{}",
         "name": "productName",
         "type": "\"string\""
        },
        {
         "metadata": "{}",
         "name": "sku",
         "type": "\"string\""
        },
        {
         "metadata": "{}",
         "name": "initialInventory",
         "type": "\"long\""
        }
       ],
       "type": "table"
      }
     },
     "output_type": "display_data"
    }
   ],
   "source": [
    "%sql\n",
    "\n",
    "-- Query to see the inventory data\n",
    "SELECT * FROM inventory_delta order by 1;"
   ]
  },
  {
   "cell_type": "markdown",
   "metadata": {
    "application/vnd.databricks.v1+cell": {
     "cellMetadata": {
      "byteLimit": 2048000,
      "rowLimit": 10000
     },
     "inputWidgets": {},
     "nuid": "3a85e61c-3154-46e2-a52f-319307c1578b",
     "showTitle": false,
     "title": ""
    }
   },
   "source": [
    "### Second Execution\n",
    "It is expected to print message \"No files to process\""
   ]
  },
  {
   "cell_type": "code",
   "execution_count": 0,
   "metadata": {
    "application/vnd.databricks.v1+cell": {
     "cellMetadata": {
      "byteLimit": 2048000,
      "rowLimit": 10000
     },
     "inputWidgets": {},
     "nuid": "eec4056c-4565-48a9-a2ff-926cc79b6cf3",
     "showTitle": false,
     "title": ""
    }
   },
   "outputs": [
    {
     "output_type": "stream",
     "name": "stderr",
     "output_type": "stream",
     "text": [
      "WARNING:__main__:No files to process in /FileStore/tables/orders/\n"
     ]
    }
   ],
   "source": [
    "main()"
   ]
  },
  {
   "cell_type": "markdown",
   "metadata": {
    "application/vnd.databricks.v1+cell": {
     "cellMetadata": {
      "byteLimit": 2048000,
      "rowLimit": 10000
     },
     "inputWidgets": {},
     "nuid": "493f2196-8031-4a98-916c-03a43327a8e3",
     "showTitle": false,
     "title": ""
    }
   },
   "source": [
    "### Third Execution\n",
    "Let's add a new order to be processed"
   ]
  },
  {
   "cell_type": "code",
   "execution_count": 0,
   "metadata": {
    "application/vnd.databricks.v1+cell": {
     "cellMetadata": {
      "byteLimit": 2048000,
      "rowLimit": 10000
     },
     "inputWidgets": {},
     "nuid": "29173e56-1f25-4a2a-a86d-a269634a0957",
     "showTitle": false,
     "title": ""
    }
   },
   "outputs": [
    {
     "output_type": "stream",
     "name": "stderr",
     "output_type": "stream",
     "text": [
      "INFO:__main__:Loaded JSON data from /FileStore/tables/orders/\nINFO:__main__:Orders data successfully extracted and flattened\nINFO:__main__:Processing orders data\nINFO:__main__:Upsert successful for /FileStore/tables/delta/orders_delta\nINFO:__main__:Upsert process completed for /FileStore/tables/delta/orders_delta\nINFO:__main__:Processing order lines data\nINFO:__main__:Upsert successful for /FileStore/tables/delta/order_lines_delta\nINFO:__main__:Upsert process completed for /FileStore/tables/delta/order_lines_delta\n"
     ]
    },
    {
     "output_type": "stream",
     "name": "stdout",
     "output_type": "stream",
     "text": [
      "+---------------------------+-----------------+------------+\n|productName                |sku              |quantitySold|\n+---------------------------+-----------------+------------+\n|Apple AirPods Pro (2nd Gen)|AirPodsPro_2ndGen|1           |\n|Samsung Galaxy S21 Ultra   |SGS21U_128GB     |2           |\n+---------------------------+-----------------+------------+\n\n"
     ]
    },
    {
     "output_type": "stream",
     "name": "stderr",
     "output_type": "stream",
     "text": [
      "INFO:__main__:Inventory updated successfully\nINFO:__main__:Processing charges data\nINFO:__main__:Upsert successful for /FileStore/tables/delta/charges_delta\nINFO:__main__:Upsert process completed for /FileStore/tables/delta/charges_delta\nINFO:__main__:Moved order1.json to /FileStore/tables/processed/\n"
     ]
    }
   ],
   "source": [
    "dbutils.fs.cp(\"/FileStore/tables/bkp/order1.json\", \"/FileStore/tables/orders/order1.json\")\n",
    "main()"
   ]
  },
  {
   "cell_type": "markdown",
   "metadata": {
    "application/vnd.databricks.v1+cell": {
     "cellMetadata": {
      "byteLimit": 2048000,
      "rowLimit": 10000
     },
     "inputWidgets": {},
     "nuid": "245e63e3-5a3b-4ffc-87bb-7d95e8a19f18",
     "showTitle": false,
     "title": ""
    }
   },
   "source": [
    "### Results"
   ]
  },
  {
   "cell_type": "code",
   "execution_count": 0,
   "metadata": {
    "application/vnd.databricks.v1+cell": {
     "cellMetadata": {
      "byteLimit": 2048000,
      "implicitDf": true,
      "rowLimit": 10000
     },
     "inputWidgets": {},
     "nuid": "fc6d5f8d-11b1-4b21-9af4-727d617eb4d4",
     "showTitle": false,
     "title": ""
    }
   },
   "outputs": [
    {
     "output_type": "stream",
     "name": "stderr",
     "output_type": "stream",
     "text": [
      "INFO:py4j.clientserver:Received command c on object id p0\n"
     ]
    },
    {
     "output_type": "display_data",
     "data": {
      "text/html": [
       "<style scoped>\n",
       "  .table-result-container {\n",
       "    max-height: 300px;\n",
       "    overflow: auto;\n",
       "  }\n",
       "  table, th, td {\n",
       "    border: 1px solid black;\n",
       "    border-collapse: collapse;\n",
       "  }\n",
       "  th, td {\n",
       "    padding: 5px;\n",
       "  }\n",
       "  th {\n",
       "    text-align: left;\n",
       "  }\n",
       "</style><div class='table-result-container'><table class='table-result'><thead style='background-color: white'><tr><th>productName</th><th>sku</th><th>initialInventory</th></tr></thead><tbody><tr><td>Apple AirPods Pro (2nd Gen)</td><td>AirPodsPro_2ndGen</td><td>178</td></tr><tr><td>Apple iPad Pro 12.9-inch</td><td>iPadPro_12_9_128GB</td><td>74</td></tr><tr><td>Bose QuietComfort 45 Headphones</td><td>BoseQC45</td><td>119</td></tr><tr><td>Dyson V15 Detect Cordless Vacuum</td><td>DysonV15_Cordless</td><td>89</td></tr><tr><td>Google Pixel 6 Pro</td><td>Pixel6Pro_128GB</td><td>59</td></tr><tr><td>Nintendo Switch OLED</td><td>NintendoSwitch_OLED</td><td>79</td></tr><tr><td>Open Box Apple Watch Series 8 GPS 41mm Silver Aluminum Case with White Sport Band - S/M</td><td>skutotestsparkjobsmartwatch4</td><td>49</td></tr><tr><td>Samsung Galaxy S21 Ultra</td><td>SGS21U_128GB</td><td>97</td></tr><tr><td>Sony PlayStation 5 Console</td><td>PS5_CONSOLE</td><td>199</td></tr><tr><td>Sony WH-1000XM5 Wireless Headphones</td><td>SONY_WHR_1000XM5</td><td>148</td></tr></tbody></table></div>"
      ]
     },
     "metadata": {
      "application/vnd.databricks.v1+output": {
       "addedWidgets": {},
       "aggData": [],
       "aggError": "",
       "aggOverflow": false,
       "aggSchema": [],
       "aggSeriesLimitReached": false,
       "aggType": "",
       "arguments": {},
       "columnCustomDisplayInfos": {},
       "data": [
        [
         "Apple AirPods Pro (2nd Gen)",
         "AirPodsPro_2ndGen",
         178
        ],
        [
         "Apple iPad Pro 12.9-inch",
         "iPadPro_12_9_128GB",
         74
        ],
        [
         "Bose QuietComfort 45 Headphones",
         "BoseQC45",
         119
        ],
        [
         "Dyson V15 Detect Cordless Vacuum",
         "DysonV15_Cordless",
         89
        ],
        [
         "Google Pixel 6 Pro",
         "Pixel6Pro_128GB",
         59
        ],
        [
         "Nintendo Switch OLED",
         "NintendoSwitch_OLED",
         79
        ],
        [
         "Open Box Apple Watch Series 8 GPS 41mm Silver Aluminum Case with White Sport Band - S/M",
         "skutotestsparkjobsmartwatch4",
         49
        ],
        [
         "Samsung Galaxy S21 Ultra",
         "SGS21U_128GB",
         97
        ],
        [
         "Sony PlayStation 5 Console",
         "PS5_CONSOLE",
         199
        ],
        [
         "Sony WH-1000XM5 Wireless Headphones",
         "SONY_WHR_1000XM5",
         148
        ]
       ],
       "datasetInfos": [],
       "dbfsResultPath": null,
       "isJsonSchema": true,
       "metadata": {},
       "overflow": false,
       "plotOptions": {
        "customPlotOptions": {},
        "displayType": "table",
        "pivotAggregation": null,
        "pivotColumns": null,
        "xColumns": null,
        "yColumns": null
       },
       "removedWidgets": [],
       "schema": [
        {
         "metadata": "{}",
         "name": "productName",
         "type": "\"string\""
        },
        {
         "metadata": "{}",
         "name": "sku",
         "type": "\"string\""
        },
        {
         "metadata": "{}",
         "name": "initialInventory",
         "type": "\"long\""
        }
       ],
       "type": "table"
      }
     },
     "output_type": "display_data"
    }
   ],
   "source": [
    "%sql\n",
    "\n",
    "-- Query to see the inventory data\n",
    "SELECT * FROM inventory_delta order by 1;"
   ]
  },
  {
   "cell_type": "code",
   "execution_count": 0,
   "metadata": {
    "application/vnd.databricks.v1+cell": {
     "cellMetadata": {
      "byteLimit": 2048000,
      "implicitDf": true,
      "rowLimit": 10000
     },
     "inputWidgets": {},
     "nuid": "6246d5b9-b08e-4347-a4db-4c7ffef00173",
     "showTitle": false,
     "title": ""
    }
   },
   "outputs": [
    {
     "output_type": "stream",
     "name": "stderr",
     "output_type": "stream",
     "text": [
      "INFO:py4j.clientserver:Received command c on object id p0\n"
     ]
    },
    {
     "output_type": "display_data",
     "data": {
      "text/html": [
       "<style scoped>\n",
       "  .table-result-container {\n",
       "    max-height: 300px;\n",
       "    overflow: auto;\n",
       "  }\n",
       "  table, th, td {\n",
       "    border: 1px solid black;\n",
       "    border-collapse: collapse;\n",
       "  }\n",
       "  th, td {\n",
       "    padding: 5px;\n",
       "  }\n",
       "  th {\n",
       "    text-align: left;\n",
       "  }\n",
       "</style><div class='table-result-container'><table class='table-result'><thead style='background-color: white'><tr><th>purchaseOrderId</th><th>customerOrderId</th><th>customerEmailId</th><th>orderType</th><th>orderDate</th></tr></thead><tbody><tr><td>4792982839409</td><td>5681962097195</td><td>9336DEB95193429EA032F07770C3E48A@relay.walmart.com</td><td>REPLACEMENT</td><td>1571903550000</td></tr><tr><td>2792982839545</td><td>5681963507621</td><td>608603150B4049338B773566484C0591@relay.walmart.com</td><td>REGULAR</td><td>1571903539000</td></tr><tr><td>2792982839414</td><td>5681962895313</td><td>BC058103AF6C400E99FDEC95795F16AF@relay.walmart.com</td><td>REPLACEMENT</td><td>1571903538000</td></tr><tr><td>4792982839305</td><td>5681962393943</td><td>B100013EF5B6415E97F13A1E2F76D33E@relay.walmart.com</td><td>REPLACEMENT</td><td>1571903537000</td></tr><tr><td>4792982839157</td><td>5681962094947</td><td>F26C0523EB674390ABD87D8148A9CF9A@relay.walmart.com</td><td>REPLACEMENT</td><td>1571903536000</td></tr><tr><td>4792982839565</td><td>5681963200599</td><td>B442C0D25766479DA1D98D0BEE18AA4E@relay.walmart.com</td><td>REPLACEMENT</td><td>1571903536000</td></tr><tr><td>4792982839536</td><td>5681963403079</td><td>C087D231D7F846C3BBE04B1AC869F3FB@relay.walmart.com</td><td>REPLACEMENT</td><td>1571903535000</td></tr><tr><td>3796673088300</td><td>5681962299170</td><td>A78E13850B234D4599FD6B42DB0EFB19@relay.walmart.com</td><td>REGULAR</td><td>1571903535000</td></tr><tr><td>1796673088779</td><td>5681963402652</td><td>B7F3DF65F7DB47CD9F4108B5C2BA89BF@relay.walmart.com</td><td>REGULAR</td><td>1571903535000</td></tr><tr><td>4792982839704</td><td>5681962096403</td><td>B100013EF5B6415E97F13A1E2F76D33E@relay.walmart.com</td><td>REGULAR</td><td>1571903535000</td></tr><tr><td>108922441247302</td><td>100000534097055</td><td>52F4311A66044A61B0D7642EA76E3ADF@relay.walmart.com</td><td>null</td><td>1723320033562</td></tr><tr><td>5792982839410</td><td>6681962097196</td><td>new_customer@relay.test.com</td><td>REGULAR</td><td>1601903550000</td></tr></tbody></table></div>"
      ]
     },
     "metadata": {
      "application/vnd.databricks.v1+output": {
       "addedWidgets": {},
       "aggData": [],
       "aggError": "",
       "aggOverflow": false,
       "aggSchema": [],
       "aggSeriesLimitReached": false,
       "aggType": "",
       "arguments": {},
       "columnCustomDisplayInfos": {},
       "data": [
        [
         "4792982839409",
         "5681962097195",
         "9336DEB95193429EA032F07770C3E48A@relay.walmart.com",
         "REPLACEMENT",
         1571903550000
        ],
        [
         "2792982839545",
         "5681963507621",
         "608603150B4049338B773566484C0591@relay.walmart.com",
         "REGULAR",
         1571903539000
        ],
        [
         "2792982839414",
         "5681962895313",
         "BC058103AF6C400E99FDEC95795F16AF@relay.walmart.com",
         "REPLACEMENT",
         1571903538000
        ],
        [
         "4792982839305",
         "5681962393943",
         "B100013EF5B6415E97F13A1E2F76D33E@relay.walmart.com",
         "REPLACEMENT",
         1571903537000
        ],
        [
         "4792982839157",
         "5681962094947",
         "F26C0523EB674390ABD87D8148A9CF9A@relay.walmart.com",
         "REPLACEMENT",
         1571903536000
        ],
        [
         "4792982839565",
         "5681963200599",
         "B442C0D25766479DA1D98D0BEE18AA4E@relay.walmart.com",
         "REPLACEMENT",
         1571903536000
        ],
        [
         "4792982839536",
         "5681963403079",
         "C087D231D7F846C3BBE04B1AC869F3FB@relay.walmart.com",
         "REPLACEMENT",
         1571903535000
        ],
        [
         "3796673088300",
         "5681962299170",
         "A78E13850B234D4599FD6B42DB0EFB19@relay.walmart.com",
         "REGULAR",
         1571903535000
        ],
        [
         "1796673088779",
         "5681963402652",
         "B7F3DF65F7DB47CD9F4108B5C2BA89BF@relay.walmart.com",
         "REGULAR",
         1571903535000
        ],
        [
         "4792982839704",
         "5681962096403",
         "B100013EF5B6415E97F13A1E2F76D33E@relay.walmart.com",
         "REGULAR",
         1571903535000
        ],
        [
         "108922441247302",
         "100000534097055",
         "52F4311A66044A61B0D7642EA76E3ADF@relay.walmart.com",
         null,
         1723320033562
        ],
        [
         "5792982839410",
         "6681962097196",
         "new_customer@relay.test.com",
         "REGULAR",
         1601903550000
        ]
       ],
       "datasetInfos": [],
       "dbfsResultPath": null,
       "isJsonSchema": true,
       "metadata": {},
       "overflow": false,
       "plotOptions": {
        "customPlotOptions": {},
        "displayType": "table",
        "pivotAggregation": null,
        "pivotColumns": null,
        "xColumns": null,
        "yColumns": null
       },
       "removedWidgets": [],
       "schema": [
        {
         "metadata": "{}",
         "name": "purchaseOrderId",
         "type": "\"string\""
        },
        {
         "metadata": "{}",
         "name": "customerOrderId",
         "type": "\"string\""
        },
        {
         "metadata": "{}",
         "name": "customerEmailId",
         "type": "\"string\""
        },
        {
         "metadata": "{}",
         "name": "orderType",
         "type": "\"string\""
        },
        {
         "metadata": "{}",
         "name": "orderDate",
         "type": "\"long\""
        }
       ],
       "type": "table"
      }
     },
     "output_type": "display_data"
    }
   ],
   "source": [
    "%sql\n",
    "-- Query to see all orders\n",
    "SELECT * FROM orders_delta;\n"
   ]
  },
  {
   "cell_type": "code",
   "execution_count": 0,
   "metadata": {
    "application/vnd.databricks.v1+cell": {
     "cellMetadata": {
      "byteLimit": 2048000,
      "implicitDf": true,
      "rowLimit": 10000
     },
     "inputWidgets": {},
     "nuid": "9f3f2c75-933c-426d-8361-03bc7652a543",
     "showTitle": false,
     "title": ""
    }
   },
   "outputs": [
    {
     "output_type": "display_data",
     "data": {
      "text/html": [
       "<style scoped>\n",
       "  .table-result-container {\n",
       "    max-height: 300px;\n",
       "    overflow: auto;\n",
       "  }\n",
       "  table, th, td {\n",
       "    border: 1px solid black;\n",
       "    border-collapse: collapse;\n",
       "  }\n",
       "  th, td {\n",
       "    padding: 5px;\n",
       "  }\n",
       "  th {\n",
       "    text-align: left;\n",
       "  }\n",
       "</style><div class='table-result-container'><table class='table-result'><thead style='background-color: white'><tr><th>purchaseOrderId</th><th>lineNumber</th><th>productName</th><th>sku</th><th>amount</th><th>shipMethod</th></tr></thead><tbody><tr><td>4792982839409</td><td>3</td><td>Samsung Galaxy S21 Ultra</td><td>SGS21U_128GB</td><td>1</td><td>EXPEDITED</td></tr><tr><td>2792982839545</td><td>11</td><td>Sony WH-1000XM5 Wireless Headphones</td><td>SONY_WHR_1000XM5</td><td>1</td><td>EXPEDITED</td></tr><tr><td>2792982839414</td><td>4</td><td>Apple iPad Pro 12.9-inch</td><td>iPadPro_12_9_128GB</td><td>1</td><td>EXPEDITED</td></tr><tr><td>4792982839305</td><td>4</td><td>Bose QuietComfort 45 Headphones</td><td>BoseQC45</td><td>1</td><td>EXPEDITED</td></tr><tr><td>4792982839157</td><td>3</td><td>Sony PlayStation 5 Console</td><td>PS5_CONSOLE</td><td>1</td><td>EXPEDITED</td></tr><tr><td>4792982839565</td><td>3</td><td>Nintendo Switch OLED</td><td>NintendoSwitch_OLED</td><td>1</td><td>EXPEDITED</td></tr><tr><td>4792982839536</td><td>4</td><td>Apple AirPods Pro (2nd Gen)</td><td>AirPodsPro_2ndGen</td><td>1</td><td>EXPEDITED</td></tr><tr><td>3796673088300</td><td>3</td><td>Dyson V15 Detect Cordless Vacuum</td><td>DysonV15_Cordless</td><td>1</td><td>EXPEDITED</td></tr><tr><td>1796673088779</td><td>3</td><td>Google Pixel 6 Pro</td><td>Pixel6Pro_128GB</td><td>1</td><td>EXPEDITED</td></tr><tr><td>4792982839704</td><td>1</td><td>Sony WH-1000XM5 Wireless Headphones</td><td>SONY_WHR_1000XM5</td><td>1</td><td>EXPEDITED</td></tr><tr><td>108922441247302</td><td>1</td><td>Open Box Apple Watch Series 8 GPS 41mm Silver Aluminum Case with White Sport Band - S/M</td><td>skutotestsparkjobsmartwatch4</td><td>1</td><td>RUSH</td></tr><tr><td>5792982839410</td><td>1</td><td>Samsung Galaxy S21 Ultra</td><td>SGS21U_128GB</td><td>2</td><td>EXPEDITED</td></tr><tr><td>5792982839410</td><td>2</td><td>Apple AirPods Pro (2nd Gen)</td><td>AirPodsPro_2ndGen</td><td>1</td><td>EXPEDITED</td></tr></tbody></table></div>"
      ]
     },
     "metadata": {
      "application/vnd.databricks.v1+output": {
       "addedWidgets": {},
       "aggData": [],
       "aggError": "",
       "aggOverflow": false,
       "aggSchema": [],
       "aggSeriesLimitReached": false,
       "aggType": "",
       "arguments": {},
       "columnCustomDisplayInfos": {},
       "data": [
        [
         "4792982839409",
         "3",
         "Samsung Galaxy S21 Ultra",
         "SGS21U_128GB",
         1,
         "EXPEDITED"
        ],
        [
         "2792982839545",
         "11",
         "Sony WH-1000XM5 Wireless Headphones",
         "SONY_WHR_1000XM5",
         1,
         "EXPEDITED"
        ],
        [
         "2792982839414",
         "4",
         "Apple iPad Pro 12.9-inch",
         "iPadPro_12_9_128GB",
         1,
         "EXPEDITED"
        ],
        [
         "4792982839305",
         "4",
         "Bose QuietComfort 45 Headphones",
         "BoseQC45",
         1,
         "EXPEDITED"
        ],
        [
         "4792982839157",
         "3",
         "Sony PlayStation 5 Console",
         "PS5_CONSOLE",
         1,
         "EXPEDITED"
        ],
        [
         "4792982839565",
         "3",
         "Nintendo Switch OLED",
         "NintendoSwitch_OLED",
         1,
         "EXPEDITED"
        ],
        [
         "4792982839536",
         "4",
         "Apple AirPods Pro (2nd Gen)",
         "AirPodsPro_2ndGen",
         1,
         "EXPEDITED"
        ],
        [
         "3796673088300",
         "3",
         "Dyson V15 Detect Cordless Vacuum",
         "DysonV15_Cordless",
         1,
         "EXPEDITED"
        ],
        [
         "1796673088779",
         "3",
         "Google Pixel 6 Pro",
         "Pixel6Pro_128GB",
         1,
         "EXPEDITED"
        ],
        [
         "4792982839704",
         "1",
         "Sony WH-1000XM5 Wireless Headphones",
         "SONY_WHR_1000XM5",
         1,
         "EXPEDITED"
        ],
        [
         "108922441247302",
         "1",
         "Open Box Apple Watch Series 8 GPS 41mm Silver Aluminum Case with White Sport Band - S/M",
         "skutotestsparkjobsmartwatch4",
         1,
         "RUSH"
        ],
        [
         "5792982839410",
         "1",
         "Samsung Galaxy S21 Ultra",
         "SGS21U_128GB",
         2,
         "EXPEDITED"
        ],
        [
         "5792982839410",
         "2",
         "Apple AirPods Pro (2nd Gen)",
         "AirPodsPro_2ndGen",
         1,
         "EXPEDITED"
        ]
       ],
       "datasetInfos": [],
       "dbfsResultPath": null,
       "isJsonSchema": true,
       "metadata": {},
       "overflow": false,
       "plotOptions": {
        "customPlotOptions": {},
        "displayType": "table",
        "pivotAggregation": null,
        "pivotColumns": null,
        "xColumns": null,
        "yColumns": null
       },
       "removedWidgets": [],
       "schema": [
        {
         "metadata": "{}",
         "name": "purchaseOrderId",
         "type": "\"string\""
        },
        {
         "metadata": "{}",
         "name": "lineNumber",
         "type": "\"string\""
        },
        {
         "metadata": "{}",
         "name": "productName",
         "type": "\"string\""
        },
        {
         "metadata": "{}",
         "name": "sku",
         "type": "\"string\""
        },
        {
         "metadata": "{}",
         "name": "amount",
         "type": "\"integer\""
        },
        {
         "metadata": "{}",
         "name": "shipMethod",
         "type": "\"string\""
        }
       ],
       "type": "table"
      }
     },
     "output_type": "display_data"
    }
   ],
   "source": [
    "%sql\n",
    "\n",
    "-- Query to see all order lines\n",
    "SELECT * FROM order_lines_delta;\n"
   ]
  },
  {
   "cell_type": "code",
   "execution_count": 0,
   "metadata": {
    "application/vnd.databricks.v1+cell": {
     "cellMetadata": {
      "byteLimit": 2048000,
      "implicitDf": true,
      "rowLimit": 10000
     },
     "inputWidgets": {},
     "nuid": "b19529aa-15ed-45fc-98b1-810fdbe3fde8",
     "showTitle": false,
     "title": ""
    }
   },
   "outputs": [
    {
     "output_type": "display_data",
     "data": {
      "text/html": [
       "<style scoped>\n",
       "  .table-result-container {\n",
       "    max-height: 300px;\n",
       "    overflow: auto;\n",
       "  }\n",
       "  table, th, td {\n",
       "    border: 1px solid black;\n",
       "    border-collapse: collapse;\n",
       "  }\n",
       "  th, td {\n",
       "    padding: 5px;\n",
       "  }\n",
       "  th {\n",
       "    text-align: left;\n",
       "  }\n",
       "</style><div class='table-result-container'><table class='table-result'><thead style='background-color: white'><tr><th>purchaseOrderId</th><th>lineNumber</th><th>chargeType</th><th>chargeName</th><th>amount</th><th>currency</th><th>taxAmount</th><th>taxCurrency</th><th>taxName</th></tr></thead><tbody><tr><td>4792982839409</td><td>3</td><td>PRODUCT</td><td>ItemPrice</td><td>1200</td><td>USD</td><td>7.92</td><td>USD</td><td>Tax1</td></tr><tr><td>4792982839409</td><td>3</td><td>SHIPPING</td><td>Shipping</td><td>33</td><td>USD</td><td>null</td><td>null</td><td>null</td></tr><tr><td>2792982839545</td><td>11</td><td>PRODUCT</td><td>ItemPrice</td><td>350</td><td>USD</td><td>null</td><td>null</td><td>null</td></tr><tr><td>2792982839545</td><td>11</td><td>SHIPPING</td><td>Shipping</td><td>60</td><td>USD</td><td>null</td><td>null</td><td>null</td></tr><tr><td>2792982839414</td><td>4</td><td>PRODUCT</td><td>ItemPrice</td><td>1000</td><td>USD</td><td>8.89</td><td>USD</td><td>Tax1</td></tr><tr><td>2792982839414</td><td>4</td><td>SHIPPING</td><td>Shipping</td><td>27</td><td>USD</td><td>null</td><td>null</td><td>null</td></tr><tr><td>4792982839305</td><td>4</td><td>PRODUCT</td><td>ItemPrice</td><td>300</td><td>USD</td><td>8.9</td><td>USD</td><td>Tax1</td></tr><tr><td>4792982839305</td><td>4</td><td>SHIPPING</td><td>Shipping</td><td>19</td><td>USD</td><td>null</td><td>null</td><td>null</td></tr><tr><td>4792982839157</td><td>3</td><td>PRODUCT</td><td>ItemPrice</td><td>500</td><td>USD</td><td>null</td><td>null</td><td>null</td></tr><tr><td>4792982839157</td><td>3</td><td>SHIPPING</td><td>Shipping</td><td>60</td><td>USD</td><td>null</td><td>null</td><td>null</td></tr><tr><td>4792982839565</td><td>3</td><td>PRODUCT</td><td>ItemPrice</td><td>350</td><td>USD</td><td>7.18</td><td>USD</td><td>Tax1</td></tr><tr><td>4792982839565</td><td>3</td><td>SHIPPING</td><td>Shipping</td><td>60</td><td>USD</td><td>null</td><td>null</td><td>null</td></tr><tr><td>4792982839536</td><td>4</td><td>PRODUCT</td><td>ItemPrice</td><td>250</td><td>USD</td><td>null</td><td>null</td><td>null</td></tr><tr><td>4792982839536</td><td>4</td><td>SHIPPING</td><td>Shipping</td><td>33</td><td>USD</td><td>null</td><td>null</td><td>null</td></tr><tr><td>3796673088300</td><td>3</td><td>PRODUCT</td><td>ItemPrice</td><td>600</td><td>USD</td><td>null</td><td>null</td><td>null</td></tr><tr><td>3796673088300</td><td>3</td><td>SHIPPING</td><td>Shipping</td><td>60</td><td>USD</td><td>null</td><td>null</td><td>null</td></tr><tr><td>1796673088779</td><td>3</td><td>PRODUCT</td><td>ItemPrice</td><td>899</td><td>USD</td><td>null</td><td>null</td><td>null</td></tr><tr><td>1796673088779</td><td>3</td><td>SHIPPING</td><td>Shipping</td><td>44</td><td>USD</td><td>null</td><td>null</td><td>null</td></tr><tr><td>4792982839704</td><td>1</td><td>PRODUCT</td><td>ItemPrice</td><td>350</td><td>USD</td><td>8.91</td><td>USD</td><td>Tax1</td></tr><tr><td>4792982839704</td><td>1</td><td>SHIPPING</td><td>Shipping</td><td>19</td><td>USD</td><td>null</td><td>null</td><td>null</td></tr><tr><td>108922441247302</td><td>1</td><td>PRODUCT</td><td>ItemPrice</td><td>331</td><td>USD</td><td>9.3</td><td>USD</td><td>Tax1</td></tr><tr><td>5792982839410</td><td>1</td><td>PRODUCT</td><td>ItemPrice</td><td>1200</td><td>USD</td><td>100.0</td><td>USD</td><td>Tax1</td></tr><tr><td>5792982839410</td><td>1</td><td>SHIPPING</td><td>Shipping</td><td>25</td><td>USD</td><td>null</td><td>null</td><td>null</td></tr><tr><td>5792982839410</td><td>2</td><td>PRODUCT</td><td>ItemPrice</td><td>250</td><td>USD</td><td>20.0</td><td>USD</td><td>Tax1</td></tr><tr><td>5792982839410</td><td>2</td><td>SHIPPING</td><td>Shipping</td><td>10</td><td>USD</td><td>null</td><td>null</td><td>null</td></tr></tbody></table></div>"
      ]
     },
     "metadata": {
      "application/vnd.databricks.v1+output": {
       "addedWidgets": {},
       "aggData": [],
       "aggError": "",
       "aggOverflow": false,
       "aggSchema": [],
       "aggSeriesLimitReached": false,
       "aggType": "",
       "arguments": {},
       "columnCustomDisplayInfos": {},
       "data": [
        [
         "4792982839409",
         "3",
         "PRODUCT",
         "ItemPrice",
         1200,
         "USD",
         7.92,
         "USD",
         "Tax1"
        ],
        [
         "4792982839409",
         "3",
         "SHIPPING",
         "Shipping",
         33,
         "USD",
         null,
         null,
         null
        ],
        [
         "2792982839545",
         "11",
         "PRODUCT",
         "ItemPrice",
         350,
         "USD",
         null,
         null,
         null
        ],
        [
         "2792982839545",
         "11",
         "SHIPPING",
         "Shipping",
         60,
         "USD",
         null,
         null,
         null
        ],
        [
         "2792982839414",
         "4",
         "PRODUCT",
         "ItemPrice",
         1000,
         "USD",
         8.89,
         "USD",
         "Tax1"
        ],
        [
         "2792982839414",
         "4",
         "SHIPPING",
         "Shipping",
         27,
         "USD",
         null,
         null,
         null
        ],
        [
         "4792982839305",
         "4",
         "PRODUCT",
         "ItemPrice",
         300,
         "USD",
         8.9,
         "USD",
         "Tax1"
        ],
        [
         "4792982839305",
         "4",
         "SHIPPING",
         "Shipping",
         19,
         "USD",
         null,
         null,
         null
        ],
        [
         "4792982839157",
         "3",
         "PRODUCT",
         "ItemPrice",
         500,
         "USD",
         null,
         null,
         null
        ],
        [
         "4792982839157",
         "3",
         "SHIPPING",
         "Shipping",
         60,
         "USD",
         null,
         null,
         null
        ],
        [
         "4792982839565",
         "3",
         "PRODUCT",
         "ItemPrice",
         350,
         "USD",
         7.18,
         "USD",
         "Tax1"
        ],
        [
         "4792982839565",
         "3",
         "SHIPPING",
         "Shipping",
         60,
         "USD",
         null,
         null,
         null
        ],
        [
         "4792982839536",
         "4",
         "PRODUCT",
         "ItemPrice",
         250,
         "USD",
         null,
         null,
         null
        ],
        [
         "4792982839536",
         "4",
         "SHIPPING",
         "Shipping",
         33,
         "USD",
         null,
         null,
         null
        ],
        [
         "3796673088300",
         "3",
         "PRODUCT",
         "ItemPrice",
         600,
         "USD",
         null,
         null,
         null
        ],
        [
         "3796673088300",
         "3",
         "SHIPPING",
         "Shipping",
         60,
         "USD",
         null,
         null,
         null
        ],
        [
         "1796673088779",
         "3",
         "PRODUCT",
         "ItemPrice",
         899,
         "USD",
         null,
         null,
         null
        ],
        [
         "1796673088779",
         "3",
         "SHIPPING",
         "Shipping",
         44,
         "USD",
         null,
         null,
         null
        ],
        [
         "4792982839704",
         "1",
         "PRODUCT",
         "ItemPrice",
         350,
         "USD",
         8.91,
         "USD",
         "Tax1"
        ],
        [
         "4792982839704",
         "1",
         "SHIPPING",
         "Shipping",
         19,
         "USD",
         null,
         null,
         null
        ],
        [
         "108922441247302",
         "1",
         "PRODUCT",
         "ItemPrice",
         331,
         "USD",
         9.3,
         "USD",
         "Tax1"
        ],
        [
         "5792982839410",
         "1",
         "PRODUCT",
         "ItemPrice",
         1200,
         "USD",
         100.0,
         "USD",
         "Tax1"
        ],
        [
         "5792982839410",
         "1",
         "SHIPPING",
         "Shipping",
         25,
         "USD",
         null,
         null,
         null
        ],
        [
         "5792982839410",
         "2",
         "PRODUCT",
         "ItemPrice",
         250,
         "USD",
         20.0,
         "USD",
         "Tax1"
        ],
        [
         "5792982839410",
         "2",
         "SHIPPING",
         "Shipping",
         10,
         "USD",
         null,
         null,
         null
        ]
       ],
       "datasetInfos": [],
       "dbfsResultPath": null,
       "isJsonSchema": true,
       "metadata": {},
       "overflow": false,
       "plotOptions": {
        "customPlotOptions": {},
        "displayType": "table",
        "pivotAggregation": null,
        "pivotColumns": null,
        "xColumns": null,
        "yColumns": null
       },
       "removedWidgets": [],
       "schema": [
        {
         "metadata": "{}",
         "name": "purchaseOrderId",
         "type": "\"string\""
        },
        {
         "metadata": "{}",
         "name": "lineNumber",
         "type": "\"string\""
        },
        {
         "metadata": "{}",
         "name": "chargeType",
         "type": "\"string\""
        },
        {
         "metadata": "{}",
         "name": "chargeName",
         "type": "\"string\""
        },
        {
         "metadata": "{}",
         "name": "amount",
         "type": "\"long\""
        },
        {
         "metadata": "{}",
         "name": "currency",
         "type": "\"string\""
        },
        {
         "metadata": "{}",
         "name": "taxAmount",
         "type": "\"double\""
        },
        {
         "metadata": "{}",
         "name": "taxCurrency",
         "type": "\"string\""
        },
        {
         "metadata": "{}",
         "name": "taxName",
         "type": "\"string\""
        }
       ],
       "type": "table"
      }
     },
     "output_type": "display_data"
    }
   ],
   "source": [
    "%sql\n",
    "\n",
    "-- Query to see the inventory data\n",
    "SELECT * FROM charges_delta;"
   ]
  }
 ],
 "metadata": {
  "application/vnd.databricks.v1+notebook": {
   "dashboards": [],
   "environmentMetadata": null,
   "language": "python",
   "notebookMetadata": {
    "mostRecentlyExecutedCommandWithImplicitDF": {
     "commandId": 910459507068199,
     "dataframes": [
      "_sqldf"
     ]
    },
    "pythonIndentUnit": 4
   },
   "notebookName": "orders notebook",
   "widgets": {}
  }
 },
 "nbformat": 4,
 "nbformat_minor": 0
}
